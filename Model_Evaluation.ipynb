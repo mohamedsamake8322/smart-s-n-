{
 "cells": [
  {
   "cell_type": "markdown",
   "id": "5d7fe4d8",
   "metadata": {},
   "source": [
    "# 📊 Model Evaluation Notebook\n",
    "This notebook evaluates two regression models (Linear Regression and XGBoost) on the crop yield dataset."
   ]
  },
  {
   "cell_type": "code",
   "execution_count": null,
   "id": "8a6afee0",
   "metadata": {},
   "outputs": [],
   "source": [
    "import pandas as pd\n",
    "import matplotlib.pyplot as plt\n",
    "from sklearn.model_selection import train_test_split\n",
    "from sklearn.linear_model import LinearRegression\n",
    "from sklearn.metrics import mean_squared_error, mean_absolute_error, r2_score\n",
    "import xgboost as xgb\n",
    "import seaborn as sns\n",
    "import joblib\n",
    "import os\n",
    "\n",
    "# Set plot style\n",
    "sns.set(style='whitegrid')"
   ]
  },
  {
   "cell_type": "markdown",
   "id": "d7b0656e",
   "metadata": {},
   "source": [
    "## 📥 Load the Dataset"
   ]
  },
  {
   "cell_type": "code",
   "execution_count": null,
   "id": "d40678c1",
   "metadata": {},
   "outputs": [],
   "source": [
    "# Load dataset\n",
    "df = pd.read_csv(\"data.csv\")\n",
    "df.head()"
   ]
  },
  {
   "cell_type": "markdown",
   "id": "df213f0b",
   "metadata": {},
   "source": [
    "## 🔧 Prepare Features and Target"
   ]
  },
  {
   "cell_type": "code",
   "execution_count": null,
   "id": "0b1ccd90",
   "metadata": {},
   "outputs": [],
   "source": [
    "features = [\"Temperature\", \"Humidity\", \"Precipitation\", \"pH\", \"Fertilizer\"]\n",
    "target = \"Yield\"\n",
    "\n",
    "X = df[features]\n",
    "y = df[target]"
   ]
  },
  {
   "cell_type": "markdown",
   "id": "7210cb4d",
   "metadata": {},
   "source": [
    "## ✂️ Split the Data"
   ]
  },
  {
   "cell_type": "code",
   "execution_count": null,
   "id": "7487a9f6",
   "metadata": {},
   "outputs": [],
   "source": [
    "X_train, X_test, y_train, y_test = train_test_split(X, y, test_size=0.2, random_state=42)"
   ]
  },
  {
   "cell_type": "markdown",
   "id": "76f84590",
   "metadata": {},
   "source": [
    "## 🤖 Train and Evaluate Models"
   ]
  },
  {
   "cell_type": "code",
   "execution_count": null,
   "id": "31e9c1dc",
   "metadata": {},
   "outputs": [],
   "source": [
    "models = {\n",
    "    \"LinearRegression\": LinearRegression(),\n",
    "    \"XGBoost\": xgb.XGBRegressor(objective='reg:squarederror', n_estimators=100)\n",
    "}\n",
    "\n",
    "os.makedirs(\"models\", exist_ok=True)\n",
    "\n",
    "results = {}\n",
    "\n",
    "for name, model in models.items():\n",
    "    model.fit(X_train, y_train)\n",
    "    y_pred = model.predict(X_test)\n",
    "\n",
    "    # Save model\n",
    "    joblib.dump(model, f\"models/{name.lower()}.pkl\")\n",
    "\n",
    "    # Evaluation\n",
    "    rmse = mean_squared_error(y_test, y_pred, squared=False)\n",
    "    mae = mean_absolute_error(y_test, y_pred)\n",
    "    r2 = r2_score(y_test, y_pred)\n",
    "\n",
    "    results[name] = {\"RMSE\": rmse, \"MAE\": mae, \"R2\": r2}\n",
    "\n",
    "    # Plot\n",
    "    plt.figure(figsize=(6, 6))\n",
    "    sns.scatterplot(x=y_test, y=y_pred, alpha=0.6)\n",
    "    plt.plot([y_test.min(), y_test.max()], [y_test.min(), y_test.max()], 'r--')\n",
    "    plt.xlabel(\"Actual Yield\")\n",
    "    plt.ylabel(\"Predicted Yield\")\n",
    "    plt.title(f\"{name} - Actual vs Predicted\")\n",
    "    plt.grid(True)\n",
    "    plt.tight_layout()\n",
    "    plt.savefig(f\"models/{name}_prediction_plot.png\")\n",
    "    plt.show()"
   ]
  },
  {
   "cell_type": "markdown",
   "id": "6597b278",
   "metadata": {},
   "source": [
    "## 📈 Results Summary"
   ]
  },
  {
   "cell_type": "code",
   "execution_count": null,
   "id": "5a7715fc",
   "metadata": {},
   "outputs": [],
   "source": [
    "pd.DataFrame(results).T"
   ]
  }
 ],
 "metadata": {},
 "nbformat": 4,
 "nbformat_minor": 5
}
