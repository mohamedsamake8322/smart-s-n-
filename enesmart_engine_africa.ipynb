{
 "cells": [
  {
   "cell_type": "code",
   "execution_count": null,
   "id": "78865ba2",
   "metadata": {
    "vscode": {
     "languageId": "plaintext"
    }
   },
   "outputs": [],
   "source": [
    "aoi_df = pd.read_csv(\"african_coordinates.csv\")  # contient pays, lat, lon, année\n",
    "\n",
    "ndvi_stats = []\n",
    "\n",
    "for idx, row in aoi_df.iterrows():\n",
    "    lat, lon = row[\"latitude\"], row[\"longitude\"]\n",
    "    year = row[\"year\"]\n",
    "    lat_range = (lat - 0.05, lat + 0.05)\n",
    "    lon_range = (lon - 0.05, lon + 0.05)\n",
    "    time_range = (f\"{year}-01-01\", f\"{year}-12-31\")\n",
    "\n",
    "    ds_ndvi = load_ndvi_africa(lat_range, lon_range, time_range)\n",
    "    ndvi_mean = ds_ndvi.NDVI.mean(dim=[\"x\", \"y\"]).mean().item()\n",
    "\n",
    "    ndvi_stats.append({\n",
    "        \"country\": row[\"country\"],\n",
    "        \"year\": year,\n",
    "        \"latitude\": lat,\n",
    "        \"longitude\": lon,\n",
    "        \"ndvi_mean\": round(ndvi_mean, 4)\n",
    "    })\n",
    "\n",
    "ndvi_df = pd.DataFrame(ndvi_stats)\n"
   ]
  },
  {
   "cell_type": "code",
   "execution_count": null,
   "id": "1ab01216",
   "metadata": {
    "vscode": {
     "languageId": "plaintext"
    }
   },
   "outputs": [],
   "source": [
    "df_agro = pd.read_csv(\"dataset_agricole_prepared.csv\")\n",
    "df_agro[\"latitude\"] = df_agro[\"latitude\"].round(2)\n",
    "df_agro[\"longitude\"] = df_agro[\"longitude\"].round(2)\n",
    "\n",
    "df_fusion = pd.merge(df_agro, ndvi_df, on=[\"country\", \"year\", \"latitude\", \"longitude\"], how=\"inner\")\n",
    "print(f\"✅ Fusion réussie : {len(df_fusion)} lignes\")\n"
   ]
  },
  {
   "cell_type": "code",
   "execution_count": null,
   "id": "39ce4dfc",
   "metadata": {
    "vscode": {
     "languageId": "plaintext"
    }
   },
   "outputs": [],
   "source": [
    "def load_ndvi_africa(lat_range, lon_range, time_range):\n",
    "    ds = load_ard(\n",
    "        dc=dc,\n",
    "        products=[\"s2_l2a\"],\n",
    "        x=lon_range,\n",
    "        y=lat_range,\n",
    "        time=time_range,\n",
    "        output_crs=\"EPSG:4326\",\n",
    "        cloud_mask=True,\n",
    "        resolution=(-0.0001, 0.0001)\n",
    "    )\n",
    "    ds = calculate_indices(ds, index=\"NDVI\", satellite_mission=\"s2\")\n",
    "    return ds\n"
   ]
  },
  {
   "cell_type": "code",
   "execution_count": null,
   "id": "a146a85c",
   "metadata": {
    "vscode": {
     "languageId": "plaintext"
    }
   },
   "outputs": [],
   "source": [
    "from datacube import Datacube\n",
    "from deafrica_tools.datahandling import load_ard\n",
    "from deafrica_tools.bandindices import calculate_indices\n",
    "import pandas as pd\n",
    "import matplotlib.pyplot as plt\n",
    "import geopandas as gpd\n",
    "\n",
    "dc = Datacube(app=\"senesmart_africa_engine\")\n"
   ]
  }
 ],
 "metadata": {
  "language_info": {
   "name": "python"
  }
 },
 "nbformat": 4,
 "nbformat_minor": 5
}
