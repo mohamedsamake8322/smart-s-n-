{
 "cells": [
  {
   "cell_type": "code",
   "execution_count": null,
   "id": "11d0e31e",
   "metadata": {
    "vscode": {
     "languageId": "plaintext"
    }
   },
   "outputs": [],
   "source": [
    "# test_recommendation_logic.ipynb\n",
    "\n",
    "from smart_agro_tools.input_recommender.recommender import suggest_inputs\n",
    "import matplotlib.pyplot as plt\n",
    "\n",
    "# Paramètres simulés\n",
    "ndvi_profile = [0.44, 0.47, 0.50, 0.45, 0.42]\n",
    "soil = {\"GWETPROF\": 0.41, \"GWETROOT\": 0.38, \"GWETTOP\": 0.35}\n",
    "climate = {\"WD10M\": 120, \"WS10M_RANGE\": 4.2}\n",
    "crop = \"Bananas\"\n",
    "yield_target = 2400\n",
    "\n",
    "# Calcul du mix NPK\n",
    "mix = suggest_inputs(ndvi_profile, soil, climate, crop, yield_target)\n",
    "print(\"✅ Mix recommandé NPK :\", mix)\n",
    "\n",
    "# Affichage\n",
    "labels = list(mix.keys())\n",
    "values = list(mix.values())\n",
    "\n",
    "plt.bar(labels, values, color=[\"forestgreen\", \"orange\", \"blue\"])\n",
    "plt.title(f\"NPK recommandé pour {crop}\")\n",
    "plt.ylabel(\"Quantité (kg/ha)\")\n",
    "plt.show()\n"
   ]
  }
 ],
 "metadata": {
  "language_info": {
   "name": "python"
  }
 },
 "nbformat": 4,
 "nbformat_minor": 5
}
