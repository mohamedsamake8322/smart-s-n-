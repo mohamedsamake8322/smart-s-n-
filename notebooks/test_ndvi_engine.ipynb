{
 "cells": [
  {
   "cell_type": "code",
   "execution_count": null,
   "id": "1fccb8ea",
   "metadata": {
    "vscode": {
     "languageId": "plaintext"
    }
   },
   "outputs": [],
   "source": [
    "# test_ndvi_engine.ipynb\n",
    "\n",
    "from smart_agro_tools.ndvi_engine.extractor import extract_valid_ndvi\n",
    "import matplotlib.pyplot as plt\n",
    "import xarray as xr\n",
    "\n",
    "# Point bien couvert (Algérie)\n",
    "lat, lon, year = 19.66, 4.3, 2021\n",
    "\n",
    "# Extraction NDVI\n",
    "result = extract_valid_ndvi(lat, lon, year)\n",
    "print(\"✅ Mission utilisée :\", result[\"source\"])\n",
    "ndvi = result[\"ndvi\"]\n",
    "\n",
    "# Visualisation moyenne temporelle\n",
    "ndvi_mean = ndvi.mean(dim=[\"x\", \"y\"])\n",
    "ndvi_mean.plot()\n",
    "plt.title(f\"NDVI moyen ({result['source']}) - {year}\")\n",
    "plt.ylabel(\"NDVI\")\n",
    "plt.show()\n"
   ]
  }
 ],
 "metadata": {
  "language_info": {
   "name": "python"
  }
 },
 "nbformat": 4,
 "nbformat_minor": 5
}
